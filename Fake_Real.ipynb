{
  "nbformat": 4,
  "nbformat_minor": 0,
  "metadata": {
    "colab": {
      "provenance": [],
      "gpuType": "T4"
    },
    "kernelspec": {
      "name": "python3",
      "display_name": "Python 3"
    },
    "language_info": {
      "name": "python"
    },
    "accelerator": "GPU"
  },
  "cells": [
    {
      "cell_type": "markdown",
      "source": [
        "# Download Weights and Sample Test Images --"
      ],
      "metadata": {
        "id": "RvoGt46hGZqn"
      }
    },
    {
      "cell_type": "code",
      "source": [
        "!wget https://www.dropbox.com/s/ue5jkuns6o4ig1b/RF_Weights.rar\n",
        "!wget https://www.dropbox.com/s/qbn0qgxq9ilib8v/Test_Samples.rar"
      ],
      "metadata": {
        "id": "34tw4X1fPNTx",
        "colab": {
          "base_uri": "https://localhost:8080/"
        },
        "outputId": "b33e9ed4-2d12-4e1c-ecef-b853fd7bcf52"
      },
      "execution_count": 1,
      "outputs": [
        {
          "output_type": "stream",
          "name": "stdout",
          "text": [
            "--2023-06-14 09:24:10--  https://www.dropbox.com/s/ue5jkuns6o4ig1b/RF_Weights.rar\n",
            "Resolving www.dropbox.com (www.dropbox.com)... 162.125.3.18, 2620:100:6018:18::a27d:312\n",
            "Connecting to www.dropbox.com (www.dropbox.com)|162.125.3.18|:443... connected.\n",
            "HTTP request sent, awaiting response... 302 Found\n",
            "Location: /s/raw/ue5jkuns6o4ig1b/RF_Weights.rar [following]\n",
            "--2023-06-14 09:24:10--  https://www.dropbox.com/s/raw/ue5jkuns6o4ig1b/RF_Weights.rar\n",
            "Reusing existing connection to www.dropbox.com:443.\n",
            "HTTP request sent, awaiting response... 302 Found\n",
            "Location: https://uce413e693d2c1061abe2d6fa1e0.dl.dropboxusercontent.com/cd/0/inline/B98x7J7uWnDO0CNgLX6XCBJ9LJ6ArrhVdMCGbNRNMvLQA5-QzNJrJTFmZLavpS5WMJ-ivJWCcucEsZwcg7d9OD1pYR6LR8oHC2j-exblUiJBnOpPliKBYHOFW8X5yPYM5faWEhQWFhS5qBgGukfWONR9e-UXL_1yauku7e-uR2tCyw/file# [following]\n",
            "--2023-06-14 09:24:10--  https://uce413e693d2c1061abe2d6fa1e0.dl.dropboxusercontent.com/cd/0/inline/B98x7J7uWnDO0CNgLX6XCBJ9LJ6ArrhVdMCGbNRNMvLQA5-QzNJrJTFmZLavpS5WMJ-ivJWCcucEsZwcg7d9OD1pYR6LR8oHC2j-exblUiJBnOpPliKBYHOFW8X5yPYM5faWEhQWFhS5qBgGukfWONR9e-UXL_1yauku7e-uR2tCyw/file\n",
            "Resolving uce413e693d2c1061abe2d6fa1e0.dl.dropboxusercontent.com (uce413e693d2c1061abe2d6fa1e0.dl.dropboxusercontent.com)... 162.125.3.15, 2620:100:6018:15::a27d:30f\n",
            "Connecting to uce413e693d2c1061abe2d6fa1e0.dl.dropboxusercontent.com (uce413e693d2c1061abe2d6fa1e0.dl.dropboxusercontent.com)|162.125.3.15|:443... connected.\n",
            "HTTP request sent, awaiting response... 302 Found\n",
            "Location: /cd/0/inline2/B9-Z7X-40txeivPJVOfIztKlE4mxZpqbKI-_iZxdlmXvzVG8AqEioeSv-AfDWLEVCaD_UGwULGctyGHYcuCz2DccCtLMF7Yu4TMMpisHediRZRrfiHH83WTUdycPu96n-GWCobGGzdz_dSxJ-JavBZXGmjliopTo6VWeBtMxDxpq7guXezN13O6xb7v4aSsr7RBh34qY7iprsiXxfTpontgeR7A0ZxLOEBNWdCCd5azIPdUuqOseSJT9sBZjMa0UlQApccT11-yCZxc0i-hxGS6fx_QYElWloSAKb1KCAmwA5ETOyFJN8Bt4ewV6taGfbeKLab7HrtJD4y7oonmRljnKLnItt0kK-lzkmo4ffjBq48dD4ngStV_izD3u4F-fjUoJxEyHyTO9MHc_ZNVRX2wMitGMY9btjA-i0EtDlFWG8w/file [following]\n",
            "--2023-06-14 09:24:11--  https://uce413e693d2c1061abe2d6fa1e0.dl.dropboxusercontent.com/cd/0/inline2/B9-Z7X-40txeivPJVOfIztKlE4mxZpqbKI-_iZxdlmXvzVG8AqEioeSv-AfDWLEVCaD_UGwULGctyGHYcuCz2DccCtLMF7Yu4TMMpisHediRZRrfiHH83WTUdycPu96n-GWCobGGzdz_dSxJ-JavBZXGmjliopTo6VWeBtMxDxpq7guXezN13O6xb7v4aSsr7RBh34qY7iprsiXxfTpontgeR7A0ZxLOEBNWdCCd5azIPdUuqOseSJT9sBZjMa0UlQApccT11-yCZxc0i-hxGS6fx_QYElWloSAKb1KCAmwA5ETOyFJN8Bt4ewV6taGfbeKLab7HrtJD4y7oonmRljnKLnItt0kK-lzkmo4ffjBq48dD4ngStV_izD3u4F-fjUoJxEyHyTO9MHc_ZNVRX2wMitGMY9btjA-i0EtDlFWG8w/file\n",
            "Reusing existing connection to uce413e693d2c1061abe2d6fa1e0.dl.dropboxusercontent.com:443.\n",
            "HTTP request sent, awaiting response... 200 OK\n",
            "Length: 319774986 (305M) [application/rar]\n",
            "Saving to: ‘RF_Weights.rar’\n",
            "\n",
            "RF_Weights.rar      100%[===================>] 304.96M   106MB/s    in 2.9s    \n",
            "\n",
            "2023-06-14 09:24:14 (106 MB/s) - ‘RF_Weights.rar’ saved [319774986/319774986]\n",
            "\n",
            "--2023-06-14 09:24:15--  https://www.dropbox.com/s/qbn0qgxq9ilib8v/Test_Samples.rar\n",
            "Resolving www.dropbox.com (www.dropbox.com)... 162.125.3.18, 2620:100:6018:18::a27d:312\n",
            "Connecting to www.dropbox.com (www.dropbox.com)|162.125.3.18|:443... connected.\n",
            "HTTP request sent, awaiting response... 302 Found\n",
            "Location: /s/raw/qbn0qgxq9ilib8v/Test_Samples.rar [following]\n",
            "--2023-06-14 09:24:15--  https://www.dropbox.com/s/raw/qbn0qgxq9ilib8v/Test_Samples.rar\n",
            "Reusing existing connection to www.dropbox.com:443.\n",
            "HTTP request sent, awaiting response... 302 Found\n",
            "Location: https://uc86f9a539b3694e25dd959b028e.dl.dropboxusercontent.com/cd/0/inline/B9_9oMbvGyN4iPQiBMsvChKKGW6DWNg8HR5nwPxLCI1kGk0l_HXMjBzc-EWikE3uBLL6iobKMwrzH1AhRkIlXGkimEQ-wHvsHlfRPPgXmwpRhlbG0v8dlpvPLr9QgyDnHYHjUo4JgvIFGOQzJ-kVfQd8ckvw9hGrUbvl2kPjZFhT4g/file# [following]\n",
            "--2023-06-14 09:24:15--  https://uc86f9a539b3694e25dd959b028e.dl.dropboxusercontent.com/cd/0/inline/B9_9oMbvGyN4iPQiBMsvChKKGW6DWNg8HR5nwPxLCI1kGk0l_HXMjBzc-EWikE3uBLL6iobKMwrzH1AhRkIlXGkimEQ-wHvsHlfRPPgXmwpRhlbG0v8dlpvPLr9QgyDnHYHjUo4JgvIFGOQzJ-kVfQd8ckvw9hGrUbvl2kPjZFhT4g/file\n",
            "Resolving uc86f9a539b3694e25dd959b028e.dl.dropboxusercontent.com (uc86f9a539b3694e25dd959b028e.dl.dropboxusercontent.com)... 162.125.3.15, 2620:100:6018:15::a27d:30f\n",
            "Connecting to uc86f9a539b3694e25dd959b028e.dl.dropboxusercontent.com (uc86f9a539b3694e25dd959b028e.dl.dropboxusercontent.com)|162.125.3.15|:443... connected.\n",
            "HTTP request sent, awaiting response... 302 Found\n",
            "Location: /cd/0/inline2/B98rMZiv2HwgSqHrewIOn9A9RYd8IPrgDgtPjGYQmqDni2JyewRKQmJYfe4S4QmKAsE6auxG2_QuXJW92vbisXHj-tWytQYB8ffTtHjVHCOBkM25JC6cTeTsZzb6QKJMtoftBBFWQ31KY8nvFhGveGEjFZAx37hDUnifml-Y9VuSJzErxb0SDJsVNS8Gc6GnN1fEEKflMK9vVqqswmnQ6eWXcdgvaXLSMaMJlyRdry6Ur0SSUIzzpilo7cCwoz0vmM33806JAfqUgixpLvksdrq3AokNjBmaFQJ_zxYeUsaOjfOhBpeJZTQ0xfbBWyihm6_Jfn7PpKP-IBmKGPGNmlbCYQQx2yZ5bsoeQuhS2X8mONoD84gOjPTJXaqM3PiQci9kIJUtrMihOk-weBxROALVhlkh7_YgUSh_8Q6YwqKghg/file [following]\n",
            "--2023-06-14 09:24:15--  https://uc86f9a539b3694e25dd959b028e.dl.dropboxusercontent.com/cd/0/inline2/B98rMZiv2HwgSqHrewIOn9A9RYd8IPrgDgtPjGYQmqDni2JyewRKQmJYfe4S4QmKAsE6auxG2_QuXJW92vbisXHj-tWytQYB8ffTtHjVHCOBkM25JC6cTeTsZzb6QKJMtoftBBFWQ31KY8nvFhGveGEjFZAx37hDUnifml-Y9VuSJzErxb0SDJsVNS8Gc6GnN1fEEKflMK9vVqqswmnQ6eWXcdgvaXLSMaMJlyRdry6Ur0SSUIzzpilo7cCwoz0vmM33806JAfqUgixpLvksdrq3AokNjBmaFQJ_zxYeUsaOjfOhBpeJZTQ0xfbBWyihm6_Jfn7PpKP-IBmKGPGNmlbCYQQx2yZ5bsoeQuhS2X8mONoD84gOjPTJXaqM3PiQci9kIJUtrMihOk-weBxROALVhlkh7_YgUSh_8Q6YwqKghg/file\n",
            "Reusing existing connection to uc86f9a539b3694e25dd959b028e.dl.dropboxusercontent.com:443.\n",
            "HTTP request sent, awaiting response... 200 OK\n",
            "Length: 453587 (443K) [application/rar]\n",
            "Saving to: ‘Test_Samples.rar’\n",
            "\n",
            "Test_Samples.rar    100%[===================>] 442.96K  --.-KB/s    in 0.04s   \n",
            "\n",
            "2023-06-14 09:24:16 (9.84 MB/s) - ‘Test_Samples.rar’ saved [453587/453587]\n",
            "\n"
          ]
        }
      ]
    },
    {
      "cell_type": "markdown",
      "source": [
        "# Unrar Library"
      ],
      "metadata": {
        "id": "rMvEPja5HRvq"
      }
    },
    {
      "cell_type": "code",
      "source": [
        "!pip install unrar"
      ],
      "metadata": {
        "colab": {
          "base_uri": "https://localhost:8080/"
        },
        "id": "7k4DBzXxHP6S",
        "outputId": "f0828c9b-f177-4afb-e08b-eb10e4331d62"
      },
      "execution_count": 2,
      "outputs": [
        {
          "output_type": "stream",
          "name": "stdout",
          "text": [
            "Looking in indexes: https://pypi.org/simple, https://us-python.pkg.dev/colab-wheels/public/simple/\n",
            "Collecting unrar\n",
            "  Downloading unrar-0.4-py3-none-any.whl (25 kB)\n",
            "Installing collected packages: unrar\n",
            "Successfully installed unrar-0.4\n"
          ]
        }
      ]
    },
    {
      "cell_type": "markdown",
      "source": [
        "#Unrar the Downlaoded Files & then Remove RAR Files\n",
        "\n",
        "\n"
      ],
      "metadata": {
        "id": "ysHKG_ASG6m0"
      }
    },
    {
      "cell_type": "code",
      "source": [
        "!unrar x /content/RF_Weights.rar\n",
        "!unrar x /content/Test_Samples.rar\n",
        "# Remove Rar Files\n",
        "!rm /content/RF_Weights.rar\n",
        "!rm /content/Test_Samples.rar"
      ],
      "metadata": {
        "colab": {
          "base_uri": "https://localhost:8080/"
        },
        "id": "o1ZKJPAaG44O",
        "outputId": "66422d5f-4680-408d-84fb-4e59a7388884"
      },
      "execution_count": 3,
      "outputs": [
        {
          "output_type": "stream",
          "name": "stdout",
          "text": [
            "\n",
            "UNRAR 5.61 beta 1 freeware      Copyright (c) 1993-2018 Alexander Roshal\n",
            "\n",
            "\n",
            "Extracting from /content/RF_Weights.rar\n",
            "\n",
            "Creating    RF_Weights                                                OK\n",
            "Creating    RF_Weights/feature_extractor                              OK\n",
            "Extracting  RF_Weights/feature_extractor/preprocessor_config.json        \b\b\b\b  0%\b\b\b\b\b  OK \n",
            "Creating    RF_Weights/model                                          OK\n",
            "Extracting  RF_Weights/model/config.json                                 \b\b\b\b  0%\b\b\b\b\b  OK \n",
            "Extracting  RF_Weights/model/pytorch_model.bin                           \b\b\b\b  1%\b\b\b\b  2%\b\b\b\b  3%\b\b\b\b  5%\b\b\b\b  6%\b\b\b\b  7%\b\b\b\b  9%\b\b\b\b 10%\b\b\b\b 11%\b\b\b\b 13%\b\b\b\b 14%\b\b\b\b 15%\b\b\b\b 17%\b\b\b\b 18%\b\b\b\b 19%\b\b\b\b 20%\b\b\b\b 22%\b\b\b\b 23%\b\b\b\b 24%\b\b\b\b 26%\b\b\b\b 27%\b\b\b\b 28%\b\b\b\b 30%\b\b\b\b 31%\b\b\b\b 32%\b\b\b\b 34%\b\b\b\b 35%\b\b\b\b 36%\b\b\b\b 38%\b\b\b\b 39%\b\b\b\b 40%\b\b\b\b 41%\b\b\b\b 43%\b\b\b\b 44%\b\b\b\b 45%\b\b\b\b 47%\b\b\b\b 48%\b\b\b\b 49%\b\b\b\b 51%\b\b\b\b 52%\b\b\b\b 53%\b\b\b\b 55%\b\b\b\b 56%\b\b\b\b 57%\b\b\b\b 59%\b\b\b\b 60%\b\b\b\b 61%\b\b\b\b 62%\b\b\b\b 64%\b\b\b\b 65%\b\b\b\b 66%\b\b\b\b 68%\b\b\b\b 69%\b\b\b\b 70%\b\b\b\b 72%\b\b\b\b 73%\b\b\b\b 74%\b\b\b\b 76%\b\b\b\b 77%\b\b\b\b 78%\b\b\b\b 80%\b\b\b\b 81%\b\b\b\b 82%\b\b\b\b 83%\b\b\b\b 85%\b\b\b\b 86%\b\b\b\b 87%\b\b\b\b 89%\b\b\b\b 90%\b\b\b\b 91%\b\b\b\b 93%\b\b\b\b 94%\b\b\b\b 95%\b\b\b\b 97%\b\b\b\b 98%\b\b\b\b 99%\b\b\b\b\b  OK \n",
            "All OK\n",
            "\n",
            "UNRAR 5.61 beta 1 freeware      Copyright (c) 1993-2018 Alexander Roshal\n",
            "\n",
            "\n",
            "Extracting from /content/Test_Samples.rar\n",
            "\n",
            "Creating    Test_Samples                                              OK\n",
            "Creating    Test_Samples/fake                                         OK\n",
            "Extracting  Test_Samples/fake/00F8LKY6JC.jpg                             \b\b\b\b  5%\b\b\b\b\b  OK \n",
            "Extracting  Test_Samples/fake/00JEP4Z36Z.jpg                             \b\b\b\b 10%\b\b\b\b\b  OK \n",
            "Extracting  Test_Samples/fake/00KEKJJ1Q4.jpg                             \b\b\b\b 17%\b\b\b\b\b  OK \n",
            "Extracting  Test_Samples/fake/00MZYXAT77.jpg                             \b\b\b\b 23%\b\b\b\b\b  OK \n",
            "Extracting  Test_Samples/fake/00PB1BNIE8.jpg                             \b\b\b\b 29%\b\b\b\b\b  OK \n",
            "Extracting  Test_Samples/fake/00QKZTHTLF.jpg                             \b\b\b\b 36%\b\b\b\b\b  OK \n",
            "Extracting  Test_Samples/fake/00V5CZZSSO.jpg                             \b\b\b\b 42%\b\b\b\b\b  OK \n",
            "Extracting  Test_Samples/fake/00XUQJZGHU.jpg                             \b\b\b\b 47%\b\b\b\b\b  OK \n",
            "Creating    Test_Samples/real                                         OK\n",
            "Extracting  Test_Samples/real/00001.jpg                                  \b\b\b\b 53%\b\b\b\b\b  OK \n",
            "Extracting  Test_Samples/real/00004.jpg                                  \b\b\b\b 61%\b\b\b\b\b  OK \n",
            "Extracting  Test_Samples/real/00007.jpg                                  \b\b\b\b 68%\b\b\b\b\b  OK \n",
            "Extracting  Test_Samples/real/00016.jpg                                  \b\b\b\b 74%\b\b\b\b\b  OK \n",
            "Extracting  Test_Samples/real/00023.jpg                                  \b\b\b\b 80%\b\b\b\b\b  OK \n",
            "Extracting  Test_Samples/real/00025.jpg                                  \b\b\b\b 87%\b\b\b\b\b  OK \n",
            "Extracting  Test_Samples/real/00028.jpg                                  \b\b\b\b 93%\b\b\b\b\b  OK \n",
            "Extracting  Test_Samples/real/00032.jpg                                  \b\b\b\b 99%\b\b\b\b\b  OK \n",
            "All OK\n"
          ]
        }
      ]
    },
    {
      "cell_type": "markdown",
      "source": [
        "#Install hugsvision"
      ],
      "metadata": {
        "id": "bAsAULc-HsSL"
      }
    },
    {
      "cell_type": "code",
      "execution_count": 5,
      "metadata": {
        "colab": {
          "base_uri": "https://localhost:8080/"
        },
        "id": "vnwAWkJXPCje",
        "outputId": "ad1341e2-748b-47f6-ceda-8936aff91cd4"
      },
      "outputs": [
        {
          "output_type": "stream",
          "name": "stdout",
          "text": [
            "Looking in indexes: https://pypi.org/simple, https://us-python.pkg.dev/colab-wheels/public/simple/\n",
            "Requirement already satisfied: hugsvision in /usr/local/lib/python3.10/dist-packages (0.75.5)\n",
            "Requirement already satisfied: torch in /usr/local/lib/python3.10/dist-packages (from hugsvision) (2.0.1+cu118)\n",
            "Requirement already satisfied: torchvision in /usr/local/lib/python3.10/dist-packages (from hugsvision) (0.15.2+cu118)\n",
            "Requirement already satisfied: torchmetrics in /usr/local/lib/python3.10/dist-packages (from hugsvision) (0.11.4)\n",
            "Requirement already satisfied: Pillow in /usr/local/lib/python3.10/dist-packages (from hugsvision) (8.4.0)\n",
            "Requirement already satisfied: scikit-learn in /usr/local/lib/python3.10/dist-packages (from hugsvision) (1.2.2)\n",
            "Requirement already satisfied: transformers in /usr/local/lib/python3.10/dist-packages (from hugsvision) (4.30.2)\n",
            "Requirement already satisfied: tqdm in /usr/local/lib/python3.10/dist-packages (from hugsvision) (4.65.0)\n",
            "Requirement already satisfied: tabulate in /usr/local/lib/python3.10/dist-packages (from hugsvision) (0.8.10)\n",
            "Requirement already satisfied: timm in /usr/local/lib/python3.10/dist-packages (from hugsvision) (0.9.2)\n",
            "Requirement already satisfied: matplotlib in /usr/local/lib/python3.10/dist-packages (from hugsvision) (3.7.1)\n",
            "Requirement already satisfied: opencv-python in /usr/local/lib/python3.10/dist-packages (from hugsvision) (4.7.0.72)\n",
            "Requirement already satisfied: pytorch-lightning in /usr/local/lib/python3.10/dist-packages (from hugsvision) (2.0.3)\n",
            "Requirement already satisfied: pycocotools in /usr/local/lib/python3.10/dist-packages (from hugsvision) (2.0.6)\n",
            "Requirement already satisfied: contourpy>=1.0.1 in /usr/local/lib/python3.10/dist-packages (from matplotlib->hugsvision) (1.0.7)\n",
            "Requirement already satisfied: cycler>=0.10 in /usr/local/lib/python3.10/dist-packages (from matplotlib->hugsvision) (0.11.0)\n",
            "Requirement already satisfied: fonttools>=4.22.0 in /usr/local/lib/python3.10/dist-packages (from matplotlib->hugsvision) (4.39.3)\n",
            "Requirement already satisfied: kiwisolver>=1.0.1 in /usr/local/lib/python3.10/dist-packages (from matplotlib->hugsvision) (1.4.4)\n",
            "Requirement already satisfied: numpy>=1.20 in /usr/local/lib/python3.10/dist-packages (from matplotlib->hugsvision) (1.22.4)\n",
            "Requirement already satisfied: packaging>=20.0 in /usr/local/lib/python3.10/dist-packages (from matplotlib->hugsvision) (23.1)\n",
            "Requirement already satisfied: pyparsing>=2.3.1 in /usr/local/lib/python3.10/dist-packages (from matplotlib->hugsvision) (3.0.9)\n",
            "Requirement already satisfied: python-dateutil>=2.7 in /usr/local/lib/python3.10/dist-packages (from matplotlib->hugsvision) (2.8.2)\n",
            "Requirement already satisfied: PyYAML>=5.4 in /usr/local/lib/python3.10/dist-packages (from pytorch-lightning->hugsvision) (6.0)\n",
            "Requirement already satisfied: fsspec[http]>2021.06.0 in /usr/local/lib/python3.10/dist-packages (from pytorch-lightning->hugsvision) (2023.4.0)\n",
            "Requirement already satisfied: typing-extensions>=4.0.0 in /usr/local/lib/python3.10/dist-packages (from pytorch-lightning->hugsvision) (4.5.0)\n",
            "Requirement already satisfied: lightning-utilities>=0.7.0 in /usr/local/lib/python3.10/dist-packages (from pytorch-lightning->hugsvision) (0.8.0)\n",
            "Requirement already satisfied: filelock in /usr/local/lib/python3.10/dist-packages (from torch->hugsvision) (3.12.0)\n",
            "Requirement already satisfied: sympy in /usr/local/lib/python3.10/dist-packages (from torch->hugsvision) (1.11.1)\n",
            "Requirement already satisfied: networkx in /usr/local/lib/python3.10/dist-packages (from torch->hugsvision) (3.1)\n",
            "Requirement already satisfied: jinja2 in /usr/local/lib/python3.10/dist-packages (from torch->hugsvision) (3.1.2)\n",
            "Requirement already satisfied: triton==2.0.0 in /usr/local/lib/python3.10/dist-packages (from torch->hugsvision) (2.0.0)\n",
            "Requirement already satisfied: cmake in /usr/local/lib/python3.10/dist-packages (from triton==2.0.0->torch->hugsvision) (3.25.2)\n",
            "Requirement already satisfied: lit in /usr/local/lib/python3.10/dist-packages (from triton==2.0.0->torch->hugsvision) (16.0.5)\n",
            "Requirement already satisfied: scipy>=1.3.2 in /usr/local/lib/python3.10/dist-packages (from scikit-learn->hugsvision) (1.10.1)\n",
            "Requirement already satisfied: joblib>=1.1.1 in /usr/local/lib/python3.10/dist-packages (from scikit-learn->hugsvision) (1.2.0)\n",
            "Requirement already satisfied: threadpoolctl>=2.0.0 in /usr/local/lib/python3.10/dist-packages (from scikit-learn->hugsvision) (3.1.0)\n",
            "Requirement already satisfied: huggingface-hub in /usr/local/lib/python3.10/dist-packages (from timm->hugsvision) (0.15.1)\n",
            "Requirement already satisfied: safetensors in /usr/local/lib/python3.10/dist-packages (from timm->hugsvision) (0.3.1)\n",
            "Requirement already satisfied: requests in /usr/local/lib/python3.10/dist-packages (from torchvision->hugsvision) (2.27.1)\n",
            "Requirement already satisfied: regex!=2019.12.17 in /usr/local/lib/python3.10/dist-packages (from transformers->hugsvision) (2022.10.31)\n",
            "Requirement already satisfied: tokenizers!=0.11.3,<0.14,>=0.11.1 in /usr/local/lib/python3.10/dist-packages (from transformers->hugsvision) (0.13.3)\n",
            "Requirement already satisfied: aiohttp!=4.0.0a0,!=4.0.0a1 in /usr/local/lib/python3.10/dist-packages (from fsspec[http]>2021.06.0->pytorch-lightning->hugsvision) (3.8.4)\n",
            "Requirement already satisfied: six>=1.5 in /usr/local/lib/python3.10/dist-packages (from python-dateutil>=2.7->matplotlib->hugsvision) (1.16.0)\n",
            "Requirement already satisfied: MarkupSafe>=2.0 in /usr/local/lib/python3.10/dist-packages (from jinja2->torch->hugsvision) (2.1.2)\n",
            "Requirement already satisfied: urllib3<1.27,>=1.21.1 in /usr/local/lib/python3.10/dist-packages (from requests->torchvision->hugsvision) (1.26.15)\n",
            "Requirement already satisfied: certifi>=2017.4.17 in /usr/local/lib/python3.10/dist-packages (from requests->torchvision->hugsvision) (2022.12.7)\n",
            "Requirement already satisfied: charset-normalizer~=2.0.0 in /usr/local/lib/python3.10/dist-packages (from requests->torchvision->hugsvision) (2.0.12)\n",
            "Requirement already satisfied: idna<4,>=2.5 in /usr/local/lib/python3.10/dist-packages (from requests->torchvision->hugsvision) (3.4)\n",
            "Requirement already satisfied: mpmath>=0.19 in /usr/local/lib/python3.10/dist-packages (from sympy->torch->hugsvision) (1.3.0)\n",
            "Requirement already satisfied: attrs>=17.3.0 in /usr/local/lib/python3.10/dist-packages (from aiohttp!=4.0.0a0,!=4.0.0a1->fsspec[http]>2021.06.0->pytorch-lightning->hugsvision) (23.1.0)\n",
            "Requirement already satisfied: multidict<7.0,>=4.5 in /usr/local/lib/python3.10/dist-packages (from aiohttp!=4.0.0a0,!=4.0.0a1->fsspec[http]>2021.06.0->pytorch-lightning->hugsvision) (6.0.4)\n",
            "Requirement already satisfied: async-timeout<5.0,>=4.0.0a3 in /usr/local/lib/python3.10/dist-packages (from aiohttp!=4.0.0a0,!=4.0.0a1->fsspec[http]>2021.06.0->pytorch-lightning->hugsvision) (4.0.2)\n",
            "Requirement already satisfied: yarl<2.0,>=1.0 in /usr/local/lib/python3.10/dist-packages (from aiohttp!=4.0.0a0,!=4.0.0a1->fsspec[http]>2021.06.0->pytorch-lightning->hugsvision) (1.9.2)\n",
            "Requirement already satisfied: frozenlist>=1.1.1 in /usr/local/lib/python3.10/dist-packages (from aiohttp!=4.0.0a0,!=4.0.0a1->fsspec[http]>2021.06.0->pytorch-lightning->hugsvision) (1.3.3)\n",
            "Requirement already satisfied: aiosignal>=1.1.2 in /usr/local/lib/python3.10/dist-packages (from aiohttp!=4.0.0a0,!=4.0.0a1->fsspec[http]>2021.06.0->pytorch-lightning->hugsvision) (1.3.1)\n"
          ]
        }
      ],
      "source": [
        "!pip install hugsvision"
      ]
    },
    {
      "cell_type": "markdown",
      "source": [
        "#Install Transformers"
      ],
      "metadata": {
        "id": "vxHNw-TwHyFA"
      }
    },
    {
      "cell_type": "code",
      "source": [
        "!pip install transformers==4.28.0"
      ],
      "metadata": {
        "colab": {
          "base_uri": "https://localhost:8080/"
        },
        "id": "vIFCf0zfPS5k",
        "outputId": "95340c38-348d-4e9d-ef98-31e1c6f31c6c"
      },
      "execution_count": 6,
      "outputs": [
        {
          "output_type": "stream",
          "name": "stdout",
          "text": [
            "Looking in indexes: https://pypi.org/simple, https://us-python.pkg.dev/colab-wheels/public/simple/\n",
            "Collecting transformers==4.28.0\n",
            "  Downloading transformers-4.28.0-py3-none-any.whl (7.0 MB)\n",
            "\u001b[2K     \u001b[90m━━━━━━━━━━━━━━━━━━━━━━━━━━━━━━━━━━━━━━━━\u001b[0m \u001b[32m7.0/7.0 MB\u001b[0m \u001b[31m24.5 MB/s\u001b[0m eta \u001b[36m0:00:00\u001b[0m\n",
            "\u001b[?25hRequirement already satisfied: filelock in /usr/local/lib/python3.10/dist-packages (from transformers==4.28.0) (3.12.0)\n",
            "Requirement already satisfied: huggingface-hub<1.0,>=0.11.0 in /usr/local/lib/python3.10/dist-packages (from transformers==4.28.0) (0.15.1)\n",
            "Requirement already satisfied: numpy>=1.17 in /usr/local/lib/python3.10/dist-packages (from transformers==4.28.0) (1.22.4)\n",
            "Requirement already satisfied: packaging>=20.0 in /usr/local/lib/python3.10/dist-packages (from transformers==4.28.0) (23.1)\n",
            "Requirement already satisfied: pyyaml>=5.1 in /usr/local/lib/python3.10/dist-packages (from transformers==4.28.0) (6.0)\n",
            "Requirement already satisfied: regex!=2019.12.17 in /usr/local/lib/python3.10/dist-packages (from transformers==4.28.0) (2022.10.31)\n",
            "Requirement already satisfied: requests in /usr/local/lib/python3.10/dist-packages (from transformers==4.28.0) (2.27.1)\n",
            "Requirement already satisfied: tokenizers!=0.11.3,<0.14,>=0.11.1 in /usr/local/lib/python3.10/dist-packages (from transformers==4.28.0) (0.13.3)\n",
            "Requirement already satisfied: tqdm>=4.27 in /usr/local/lib/python3.10/dist-packages (from transformers==4.28.0) (4.65.0)\n",
            "Requirement already satisfied: fsspec in /usr/local/lib/python3.10/dist-packages (from huggingface-hub<1.0,>=0.11.0->transformers==4.28.0) (2023.4.0)\n",
            "Requirement already satisfied: typing-extensions>=3.7.4.3 in /usr/local/lib/python3.10/dist-packages (from huggingface-hub<1.0,>=0.11.0->transformers==4.28.0) (4.5.0)\n",
            "Requirement already satisfied: urllib3<1.27,>=1.21.1 in /usr/local/lib/python3.10/dist-packages (from requests->transformers==4.28.0) (1.26.15)\n",
            "Requirement already satisfied: certifi>=2017.4.17 in /usr/local/lib/python3.10/dist-packages (from requests->transformers==4.28.0) (2022.12.7)\n",
            "Requirement already satisfied: charset-normalizer~=2.0.0 in /usr/local/lib/python3.10/dist-packages (from requests->transformers==4.28.0) (2.0.12)\n",
            "Requirement already satisfied: idna<4,>=2.5 in /usr/local/lib/python3.10/dist-packages (from requests->transformers==4.28.0) (3.4)\n",
            "Installing collected packages: transformers\n",
            "  Attempting uninstall: transformers\n",
            "    Found existing installation: transformers 4.30.2\n",
            "    Uninstalling transformers-4.30.2:\n",
            "      Successfully uninstalled transformers-4.30.2\n",
            "Successfully installed transformers-4.28.0\n"
          ]
        }
      ]
    },
    {
      "cell_type": "markdown",
      "source": [
        "#Inport Libraries"
      ],
      "metadata": {
        "id": "ocLRXJqEH1xS"
      }
    },
    {
      "cell_type": "code",
      "source": [
        "import os.path\n",
        "from transformers import ViTFeatureExtractor, ViTForImageClassification\n",
        "from hugsvision.inference.VisionClassifierInference import VisionClassifierInference"
      ],
      "metadata": {
        "id": "vIgrHLwjPfLs"
      },
      "execution_count": 7,
      "outputs": []
    },
    {
      "cell_type": "markdown",
      "source": [
        "#Trained Weights Path"
      ],
      "metadata": {
        "id": "p0mYrepjPpIR"
      }
    },
    {
      "cell_type": "code",
      "source": [
        "path = \"/content/RF_Weights/model\"\n",
        "feature_extractor=\"/content/RF_Weights/feature_extractor\""
      ],
      "metadata": {
        "id": "a3XxwMi1PjoD"
      },
      "execution_count": 8,
      "outputs": []
    },
    {
      "cell_type": "markdown",
      "source": [
        "#Test Image (Select any Image from Test_Smaples) | Test with your own Image after to upload in Local Cloab."
      ],
      "metadata": {
        "id": "hFD5NVkoP36z"
      }
    },
    {
      "cell_type": "code",
      "source": [
        "img  = \"/content/Test_Samples/fake/00F8LKY6JC.jpg\""
      ],
      "metadata": {
        "id": "JckuVXJkP0kV"
      },
      "execution_count": 9,
      "outputs": []
    },
    {
      "cell_type": "markdown",
      "source": [
        "#Prediction"
      ],
      "metadata": {
        "id": "e3wIVNF4QLV-"
      }
    },
    {
      "cell_type": "code",
      "source": [
        "classifier = VisionClassifierInference(\n",
        "    feature_extractor = ViTFeatureExtractor.from_pretrained(feature_extractor),\n",
        "    model = ViTForImageClassification.from_pretrained(path),\n",
        ")\n",
        "\n",
        "label = classifier.predict(img_path=img)\n",
        "print('\\033[91m' + 'Predicted Class: '+ '\\033[92m'+label)"
      ],
      "metadata": {
        "colab": {
          "base_uri": "https://localhost:8080/"
        },
        "id": "1flZzza5Pvjx",
        "outputId": "f8cc3338-7d49-4d6d-eee3-233991244cc3"
      },
      "execution_count": 10,
      "outputs": [
        {
          "output_type": "stream",
          "name": "stderr",
          "text": [
            "/usr/local/lib/python3.10/dist-packages/transformers/models/vit/feature_extraction_vit.py:28: FutureWarning: The class ViTFeatureExtractor is deprecated and will be removed in version 5 of Transformers. Please use ViTImageProcessor instead.\n",
            "  warnings.warn(\n"
          ]
        },
        {
          "output_type": "stream",
          "name": "stdout",
          "text": [
            "Model loaded!\n",
            "\u001b[91mPredicted Class: \u001b[92mfake\n"
          ]
        }
      ]
    }
  ]
}